{
 "cells": [
  {
   "cell_type": "code",
   "execution_count": 39,
   "metadata": {
    "collapsed": true
   },
   "outputs": [],
   "source": [
    "#import modules\n",
    "import numpy as np\n",
    "import pandas as pd\n",
    "\n",
    "from sklearn.preprocessing import LabelEncoder\n",
    "\n",
    "from sklearn.ensemble import RandomForestClassifier, GradientBoostingClassifier\n",
    "\n",
    "from sklearn.cross_validation import cross_val_score"
   ]
  },
  {
   "cell_type": "code",
   "execution_count": 8,
   "metadata": {
    "collapsed": true
   },
   "outputs": [],
   "source": [
    "data_train = pd.read_csv('data/Clean.csv')\n",
    "data_test = pd.read_csv('data/CleanTest.csv')"
   ]
  },
  {
   "cell_type": "code",
   "execution_count": 3,
   "metadata": {
    "collapsed": false
   },
   "outputs": [
    {
     "data": {
      "text/html": [
       "<div>\n",
       "<table border=\"1\" class=\"dataframe\">\n",
       "  <thead>\n",
       "    <tr style=\"text-align: right;\">\n",
       "      <th></th>\n",
       "      <th>Unnamed: 0</th>\n",
       "      <th>AnimalID</th>\n",
       "      <th>Name</th>\n",
       "      <th>OutcomeType</th>\n",
       "      <th>OutcomeSubtype</th>\n",
       "      <th>AnimalType</th>\n",
       "      <th>SexuponOutcome</th>\n",
       "      <th>AgeuponOutcome</th>\n",
       "      <th>Breed</th>\n",
       "      <th>Color</th>\n",
       "      <th>Day</th>\n",
       "      <th>Month</th>\n",
       "      <th>Year</th>\n",
       "      <th>Hours</th>\n",
       "      <th>Minutes</th>\n",
       "    </tr>\n",
       "  </thead>\n",
       "  <tbody>\n",
       "    <tr>\n",
       "      <th>0</th>\n",
       "      <td>1</td>\n",
       "      <td>A671945</td>\n",
       "      <td>Hambone</td>\n",
       "      <td>Return_to_owner</td>\n",
       "      <td>NaN</td>\n",
       "      <td>Dog</td>\n",
       "      <td>Neutered Male</td>\n",
       "      <td>1 year</td>\n",
       "      <td>Shetland Sheepdog Mix</td>\n",
       "      <td>Brown/White</td>\n",
       "      <td>12</td>\n",
       "      <td>2</td>\n",
       "      <td>2014</td>\n",
       "      <td>18</td>\n",
       "      <td>22</td>\n",
       "    </tr>\n",
       "    <tr>\n",
       "      <th>1</th>\n",
       "      <td>2</td>\n",
       "      <td>A656520</td>\n",
       "      <td>Emily</td>\n",
       "      <td>Euthanasia</td>\n",
       "      <td>Suffering</td>\n",
       "      <td>Cat</td>\n",
       "      <td>Spayed Female</td>\n",
       "      <td>1 year</td>\n",
       "      <td>Domestic Shorthair Mix</td>\n",
       "      <td>Cream Tabby</td>\n",
       "      <td>13</td>\n",
       "      <td>10</td>\n",
       "      <td>2013</td>\n",
       "      <td>12</td>\n",
       "      <td>44</td>\n",
       "    </tr>\n",
       "    <tr>\n",
       "      <th>2</th>\n",
       "      <td>3</td>\n",
       "      <td>A686464</td>\n",
       "      <td>Pearce</td>\n",
       "      <td>Adoption</td>\n",
       "      <td>Foster</td>\n",
       "      <td>Dog</td>\n",
       "      <td>Neutered Male</td>\n",
       "      <td>2 years</td>\n",
       "      <td>Pit Bull Mix</td>\n",
       "      <td>Blue/White</td>\n",
       "      <td>31</td>\n",
       "      <td>1</td>\n",
       "      <td>2015</td>\n",
       "      <td>12</td>\n",
       "      <td>28</td>\n",
       "    </tr>\n",
       "    <tr>\n",
       "      <th>3</th>\n",
       "      <td>4</td>\n",
       "      <td>A683430</td>\n",
       "      <td>NaN</td>\n",
       "      <td>Transfer</td>\n",
       "      <td>Partner</td>\n",
       "      <td>Cat</td>\n",
       "      <td>Intact Male</td>\n",
       "      <td>3 weeks</td>\n",
       "      <td>Domestic Shorthair Mix</td>\n",
       "      <td>Blue Cream</td>\n",
       "      <td>11</td>\n",
       "      <td>7</td>\n",
       "      <td>2014</td>\n",
       "      <td>19</td>\n",
       "      <td>9</td>\n",
       "    </tr>\n",
       "    <tr>\n",
       "      <th>4</th>\n",
       "      <td>5</td>\n",
       "      <td>A667013</td>\n",
       "      <td>NaN</td>\n",
       "      <td>Transfer</td>\n",
       "      <td>Partner</td>\n",
       "      <td>Dog</td>\n",
       "      <td>Neutered Male</td>\n",
       "      <td>2 years</td>\n",
       "      <td>Lhasa Apso/Miniature Poodle</td>\n",
       "      <td>Tan</td>\n",
       "      <td>15</td>\n",
       "      <td>11</td>\n",
       "      <td>2013</td>\n",
       "      <td>12</td>\n",
       "      <td>52</td>\n",
       "    </tr>\n",
       "  </tbody>\n",
       "</table>\n",
       "</div>"
      ],
      "text/plain": [
       "   Unnamed: 0 AnimalID     Name      OutcomeType OutcomeSubtype AnimalType  \\\n",
       "0           1  A671945  Hambone  Return_to_owner            NaN        Dog   \n",
       "1           2  A656520    Emily       Euthanasia      Suffering        Cat   \n",
       "2           3  A686464   Pearce         Adoption         Foster        Dog   \n",
       "3           4  A683430      NaN         Transfer        Partner        Cat   \n",
       "4           5  A667013      NaN         Transfer        Partner        Dog   \n",
       "\n",
       "  SexuponOutcome AgeuponOutcome                        Breed        Color  \\\n",
       "0  Neutered Male         1 year        Shetland Sheepdog Mix  Brown/White   \n",
       "1  Spayed Female         1 year       Domestic Shorthair Mix  Cream Tabby   \n",
       "2  Neutered Male        2 years                 Pit Bull Mix   Blue/White   \n",
       "3    Intact Male        3 weeks       Domestic Shorthair Mix   Blue Cream   \n",
       "4  Neutered Male        2 years  Lhasa Apso/Miniature Poodle          Tan   \n",
       "\n",
       "   Day  Month  Year  Hours  Minutes  \n",
       "0   12      2  2014     18       22  \n",
       "1   13     10  2013     12       44  \n",
       "2   31      1  2015     12       28  \n",
       "3   11      7  2014     19        9  \n",
       "4   15     11  2013     12       52  "
      ]
     },
     "execution_count": 3,
     "metadata": {},
     "output_type": "execute_result"
    }
   ],
   "source": [
    "data_train.head()"
   ]
  },
  {
   "cell_type": "code",
   "execution_count": 4,
   "metadata": {
    "collapsed": false
   },
   "outputs": [
    {
     "name": "stdout",
     "output_type": "stream",
     "text": [
      "<class 'pandas.core.frame.DataFrame'>\n",
      "Int64Index: 26710 entries, 0 to 26709\n",
      "Data columns (total 15 columns):\n",
      "Unnamed: 0        26710 non-null int64\n",
      "AnimalID          26710 non-null object\n",
      "Name              19037 non-null object\n",
      "OutcomeType       26710 non-null object\n",
      "OutcomeSubtype    13099 non-null object\n",
      "AnimalType        26710 non-null object\n",
      "SexuponOutcome    26710 non-null object\n",
      "AgeuponOutcome    26710 non-null object\n",
      "Breed             26710 non-null object\n",
      "Color             26710 non-null object\n",
      "Day               26710 non-null int64\n",
      "Month             26710 non-null int64\n",
      "Year              26710 non-null int64\n",
      "Hours             26710 non-null int64\n",
      "Minutes           26710 non-null int64\n",
      "dtypes: int64(6), object(9)\n",
      "memory usage: 3.3+ MB\n"
     ]
    }
   ],
   "source": [
    "data_train.info()"
   ]
  },
  {
   "cell_type": "code",
   "execution_count": 7,
   "metadata": {
    "collapsed": false
   },
   "outputs": [
    {
     "name": "stdout",
     "output_type": "stream",
     "text": [
      "<class 'pandas.core.frame.DataFrame'>\n",
      "Int64Index: 11456 entries, 0 to 11455\n",
      "Data columns (total 13 columns):\n",
      "Unnamed: 0        11456 non-null int64\n",
      "ID                11456 non-null int64\n",
      "Name              8231 non-null object\n",
      "AnimalType        11456 non-null object\n",
      "SexuponOutcome    11456 non-null object\n",
      "AgeuponOutcome    11450 non-null object\n",
      "Breed             11456 non-null object\n",
      "Color             11456 non-null object\n",
      "Day               11456 non-null int64\n",
      "Month             11456 non-null int64\n",
      "Year              11456 non-null int64\n",
      "Hours             11456 non-null int64\n",
      "Minutes           11456 non-null int64\n",
      "dtypes: int64(7), object(6)\n",
      "memory usage: 1.2+ MB\n"
     ]
    }
   ],
   "source": [
    "data_test.info()"
   ]
  },
  {
   "cell_type": "code",
   "execution_count": 98,
   "metadata": {
    "collapsed": false
   },
   "outputs": [],
   "source": [
    "train = data_train.drop(['AnimalID', 'Name', 'OutcomeSubtype', 'OutcomeType', 'Unnamed: 0'], axis = 1)\n",
    "test = data_test.drop(['ID', 'Name', 'Unnamed: 0'], axis = 1)"
   ]
  },
  {
   "cell_type": "code",
   "execution_count": 99,
   "metadata": {
    "collapsed": false
   },
   "outputs": [
    {
     "name": "stdout",
     "output_type": "stream",
     "text": [
      "<class 'pandas.core.frame.DataFrame'>\n",
      "Int64Index: 26710 entries, 0 to 26709\n",
      "Data columns (total 10 columns):\n",
      "AnimalType        26710 non-null object\n",
      "SexuponOutcome    26710 non-null object\n",
      "AgeuponOutcome    26710 non-null object\n",
      "Breed             26710 non-null object\n",
      "Color             26710 non-null object\n",
      "Day               26710 non-null int64\n",
      "Month             26710 non-null int64\n",
      "Year              26710 non-null int64\n",
      "Hours             26710 non-null int64\n",
      "Minutes           26710 non-null int64\n",
      "dtypes: int64(5), object(5)\n",
      "memory usage: 2.2+ MB\n"
     ]
    }
   ],
   "source": [
    "train.info()"
   ]
  },
  {
   "cell_type": "code",
   "execution_count": 100,
   "metadata": {
    "collapsed": false
   },
   "outputs": [
    {
     "name": "stdout",
     "output_type": "stream",
     "text": [
      "<class 'pandas.core.frame.DataFrame'>\n",
      "Int64Index: 11456 entries, 0 to 11455\n",
      "Data columns (total 10 columns):\n",
      "AnimalType        11456 non-null object\n",
      "SexuponOutcome    11456 non-null object\n",
      "AgeuponOutcome    11450 non-null object\n",
      "Breed             11456 non-null object\n",
      "Color             11456 non-null object\n",
      "Day               11456 non-null int64\n",
      "Month             11456 non-null int64\n",
      "Year              11456 non-null int64\n",
      "Hours             11456 non-null int64\n",
      "Minutes           11456 non-null int64\n",
      "dtypes: int64(5), object(5)\n",
      "memory usage: 984.5+ KB\n"
     ]
    }
   ],
   "source": [
    "test.info()"
   ]
  },
  {
   "cell_type": "code",
   "execution_count": 101,
   "metadata": {
    "collapsed": false
   },
   "outputs": [],
   "source": [
    "lb = LabelEncoder()\n",
    "categorical_columns = train.columns[train.dtypes == 'object']\n",
    "for var in categorical_columns:\n",
    "    full_data = pd.concat((train[var],test[var]),axis=0).astype('str')\n",
    "    lb.fit(full_data )\n",
    "    train.loc[:, var] = lb.transform(train[var].astype('str'))\n",
    "    test.loc[:, var] = lb.transform(test[var].astype('str'))"
   ]
  },
  {
   "cell_type": "code",
   "execution_count": 102,
   "metadata": {
    "collapsed": false
   },
   "outputs": [
    {
     "data": {
      "text/html": [
       "<div>\n",
       "<table border=\"1\" class=\"dataframe\">\n",
       "  <thead>\n",
       "    <tr style=\"text-align: right;\">\n",
       "      <th></th>\n",
       "      <th>AnimalType</th>\n",
       "      <th>SexuponOutcome</th>\n",
       "      <th>AgeuponOutcome</th>\n",
       "      <th>Breed</th>\n",
       "      <th>Color</th>\n",
       "      <th>Day</th>\n",
       "      <th>Month</th>\n",
       "      <th>Year</th>\n",
       "      <th>Hours</th>\n",
       "      <th>Minutes</th>\n",
       "    </tr>\n",
       "  </thead>\n",
       "  <tbody>\n",
       "    <tr>\n",
       "      <th>0</th>\n",
       "      <td>1</td>\n",
       "      <td>2</td>\n",
       "      <td>5</td>\n",
       "      <td>1482</td>\n",
       "      <td>146</td>\n",
       "      <td>12</td>\n",
       "      <td>2</td>\n",
       "      <td>2014</td>\n",
       "      <td>18</td>\n",
       "      <td>22</td>\n",
       "    </tr>\n",
       "    <tr>\n",
       "      <th>1</th>\n",
       "      <td>0</td>\n",
       "      <td>3</td>\n",
       "      <td>5</td>\n",
       "      <td>775</td>\n",
       "      <td>184</td>\n",
       "      <td>13</td>\n",
       "      <td>10</td>\n",
       "      <td>2013</td>\n",
       "      <td>12</td>\n",
       "      <td>44</td>\n",
       "    </tr>\n",
       "    <tr>\n",
       "      <th>2</th>\n",
       "      <td>1</td>\n",
       "      <td>2</td>\n",
       "      <td>21</td>\n",
       "      <td>1293</td>\n",
       "      <td>97</td>\n",
       "      <td>31</td>\n",
       "      <td>1</td>\n",
       "      <td>2015</td>\n",
       "      <td>12</td>\n",
       "      <td>28</td>\n",
       "    </tr>\n",
       "    <tr>\n",
       "      <th>3</th>\n",
       "      <td>0</td>\n",
       "      <td>1</td>\n",
       "      <td>26</td>\n",
       "      <td>775</td>\n",
       "      <td>47</td>\n",
       "      <td>11</td>\n",
       "      <td>7</td>\n",
       "      <td>2014</td>\n",
       "      <td>19</td>\n",
       "      <td>9</td>\n",
       "    </tr>\n",
       "    <tr>\n",
       "      <th>4</th>\n",
       "      <td>1</td>\n",
       "      <td>2</td>\n",
       "      <td>21</td>\n",
       "      <td>1101</td>\n",
       "      <td>311</td>\n",
       "      <td>15</td>\n",
       "      <td>11</td>\n",
       "      <td>2013</td>\n",
       "      <td>12</td>\n",
       "      <td>52</td>\n",
       "    </tr>\n",
       "  </tbody>\n",
       "</table>\n",
       "</div>"
      ],
      "text/plain": [
       "   AnimalType  SexuponOutcome  AgeuponOutcome  Breed  Color  Day  Month  Year  \\\n",
       "0           1               2               5   1482    146   12      2  2014   \n",
       "1           0               3               5    775    184   13     10  2013   \n",
       "2           1               2              21   1293     97   31      1  2015   \n",
       "3           0               1              26    775     47   11      7  2014   \n",
       "4           1               2              21   1101    311   15     11  2013   \n",
       "\n",
       "   Hours  Minutes  \n",
       "0     18       22  \n",
       "1     12       44  \n",
       "2     12       28  \n",
       "3     19        9  \n",
       "4     12       52  "
      ]
     },
     "execution_count": 102,
     "metadata": {},
     "output_type": "execute_result"
    }
   ],
   "source": [
    "train.head()"
   ]
  },
  {
   "cell_type": "code",
   "execution_count": 103,
   "metadata": {
    "collapsed": false
   },
   "outputs": [],
   "source": [
    "test.fillna(train.mean(), inplace=True);"
   ]
  },
  {
   "cell_type": "code",
   "execution_count": 104,
   "metadata": {
    "collapsed": false
   },
   "outputs": [
    {
     "name": "stdout",
     "output_type": "stream",
     "text": [
      "<class 'pandas.core.frame.DataFrame'>\n",
      "Int64Index: 11456 entries, 0 to 11455\n",
      "Data columns (total 10 columns):\n",
      "AnimalType        11456 non-null int64\n",
      "SexuponOutcome    11456 non-null int64\n",
      "AgeuponOutcome    11456 non-null int64\n",
      "Breed             11456 non-null int64\n",
      "Color             11456 non-null int64\n",
      "Day               11456 non-null int64\n",
      "Month             11456 non-null int64\n",
      "Year              11456 non-null int64\n",
      "Hours             11456 non-null int64\n",
      "Minutes           11456 non-null int64\n",
      "dtypes: int64(10)\n",
      "memory usage: 984.5 KB\n"
     ]
    }
   ],
   "source": [
    "test.info()"
   ]
  },
  {
   "cell_type": "code",
   "execution_count": 105,
   "metadata": {
    "collapsed": true
   },
   "outputs": [],
   "source": [
    "data_x = train.values\n",
    "data_y = data_train.OutcomeType.values\n",
    "\n",
    "data_x_test = test.values"
   ]
  },
  {
   "cell_type": "code",
   "execution_count": 106,
   "metadata": {
    "collapsed": true
   },
   "outputs": [],
   "source": [
    "clf1 = RandomForestClassifier(n_jobs=3, n_estimators=250, oob_score=True)"
   ]
  },
  {
   "cell_type": "code",
   "execution_count": 107,
   "metadata": {
    "collapsed": true
   },
   "outputs": [],
   "source": [
    "clf2 = GradientBoostingClassifier(n_estimators=250)"
   ]
  },
  {
   "cell_type": "code",
   "execution_count": 25,
   "metadata": {
    "collapsed": false
   },
   "outputs": [
    {
     "data": {
      "text/plain": [
       "array([-0.95459233, -0.98648117, -0.91576981])"
      ]
     },
     "execution_count": 25,
     "metadata": {},
     "output_type": "execute_result"
    }
   ],
   "source": [
    "# rmf100\n",
    "cross_val_score(clf1, data_x, data_y, cv = 3, scoring = 'log_loss')"
   ]
  },
  {
   "cell_type": "code",
   "execution_count": 87,
   "metadata": {
    "collapsed": false
   },
   "outputs": [
    {
     "data": {
      "text/plain": [
       "array([-0.93166129, -0.95201874, -0.91833644])"
      ]
     },
     "execution_count": 87,
     "metadata": {},
     "output_type": "execute_result"
    }
   ],
   "source": [
    "# rmf250_oob\n",
    "cross_val_score(clf1, data_x, data_y, cv = 3, scoring = 'log_loss')"
   ]
  },
  {
   "cell_type": "code",
   "execution_count": 116,
   "metadata": {
    "collapsed": false
   },
   "outputs": [
    {
     "data": {
      "text/plain": [
       "array([-0.83455612, -0.81797369, -0.81823957])"
      ]
     },
     "execution_count": 116,
     "metadata": {},
     "output_type": "execute_result"
    }
   ],
   "source": [
    "# xgb250\n",
    "cross_val_score(clf2, data_x, data_y, cv = 3, scoring = 'log_loss')"
   ]
  },
  {
   "cell_type": "code",
   "execution_count": 43,
   "metadata": {
    "collapsed": false
   },
   "outputs": [
    {
     "data": {
      "text/plain": [
       "array([-0.84642536, -0.83332468, -0.83589798])"
      ]
     },
     "execution_count": 43,
     "metadata": {},
     "output_type": "execute_result"
    }
   ],
   "source": [
    "# xgb100\n",
    "cross_val_score(clf2, data_x, data_y, cv = 3, scoring = 'log_loss')"
   ]
  },
  {
   "cell_type": "code",
   "execution_count": 108,
   "metadata": {
    "collapsed": false
   },
   "outputs": [],
   "source": [
    "clf2.fit(data_x, data_y);\n",
    "pred = clf2.predict_proba(data_x_test)"
   ]
  },
  {
   "cell_type": "code",
   "execution_count": 110,
   "metadata": {
    "collapsed": false
   },
   "outputs": [],
   "source": [
    "sub = pd.DataFrame(pred, columns=clf2.classes_)"
   ]
  },
  {
   "cell_type": "code",
   "execution_count": 111,
   "metadata": {
    "collapsed": false
   },
   "outputs": [],
   "source": [
    "sub['ID'] = data_test.ID"
   ]
  },
  {
   "cell_type": "code",
   "execution_count": 112,
   "metadata": {
    "collapsed": false
   },
   "outputs": [],
   "source": [
    "sub.to_csv('sub/sub01.csv', index=False)"
   ]
  },
  {
   "cell_type": "code",
   "execution_count": null,
   "metadata": {
    "collapsed": true
   },
   "outputs": [],
   "source": []
  }
 ],
 "metadata": {
  "kernelspec": {
   "display_name": "Python 2",
   "language": "python",
   "name": "python2"
  },
  "language_info": {
   "codemirror_mode": {
    "name": "ipython",
    "version": 2
   },
   "file_extension": ".py",
   "mimetype": "text/x-python",
   "name": "python",
   "nbconvert_exporter": "python",
   "pygments_lexer": "ipython2",
   "version": "2.7.11"
  }
 },
 "nbformat": 4,
 "nbformat_minor": 0
}
